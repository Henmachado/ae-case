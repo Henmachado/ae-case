{
 "cells": [
  {
   "cell_type": "code",
   "execution_count": 20,
   "id": "66d3b981",
   "metadata": {},
   "outputs": [],
   "source": [
    "import warnings\n",
    "warnings.filterwarnings(\"ignore\")\n",
    "\n",
    "import json\n",
    "import matplotlib.pyplot as plt\n",
    "import os\n",
    "\n",
    "from dataclasses import dataclass\n",
    "\n",
    "from pyspark.sql import Column as PysparkColumn\n",
    "from pyspark.sql import DataFrame\n",
    "from pyspark.sql import functions as F\n",
    "from pyspark.sql import SparkSession\n",
    "from pyspark.sql import Window\n",
    "\n",
    "from typing import List\n",
    "from typing import NamedTuple\n",
    "from typing import Union\n",
    "from typing import Tuple\n",
    "from typing import Optional\n",
    "\n",
    "spark = SparkSession.builder.getOrCreate() \n",
    "#consider replace this to your own spark cluster session instead of using local\n",
    "\n",
    "plt.style.use('seaborn')"
   ]
  },
  {
   "cell_type": "code",
   "execution_count": 21,
   "id": "0ff934b2",
   "metadata": {},
   "outputs": [],
   "source": [
    "# some utils functions in order to load the data\n",
    "\n",
    "def read_csv(path: str) -> DataFrame:\n",
    "    '''loads csv data infering the schema'''\n",
    "    \n",
    "    return (\n",
    "        spark.read.format(\"com.databricks.spark.csv\") \n",
    "        .option(\"header\", \"true\")\n",
    "        .option(\"treatEmptyValuesAsNulls\", \"true\")\n",
    "        .option(\"inferSchema\", \"true\")\n",
    "        .load(f\"Tables/{path}\")        \n",
    "    )\n",
    "\n",
    "\n",
    "def create_catalog(tables: List) -> None:\n",
    "    '''creates a local spark-warehouse'''\n",
    "    \n",
    "    for table in tables:\n",
    "        _df = read_csv(table)\n",
    "        _df.createOrReplaceTempView(table)\n",
    "        \n",
    "        \n",
    "def read_json_from_file(file_path: str) -> List:\n",
    "    '''reads the raw json'''\n",
    "    \n",
    "    with open(file_path, 'r') as f:\n",
    "        json_data = f.read()\n",
    "        data = json.loads(json_data)\n",
    "    return data\n",
    "\n",
    "\n",
    "def write_json_to_file(data: List[str], file_path) -> None:\n",
    "    '''write the json back as one object per line'''\n",
    "    \n",
    "    with open(file_path, 'w') as file:\n",
    "        for item in data:\n",
    "            json.dump(item, file)\n",
    "            file.write('\\n')\n",
    "\n",
    "            \n",
    "def read_json_output(output_file: str, schema: str) -> DataFrame:\n",
    "    '''reads the processed json on spark'''\n",
    "    \n",
    "    return spark.read.schema(schema).json(output_file)\n",
    "\n",
    "\n",
    "def unnest_json_df(df: DataFrame) -> DataFrame:\n",
    "    '''unnest the raw data into columns'''\n",
    "    \n",
    "    return (\n",
    "        df.select(\"account_id\", F.explode(\"transactions\").alias(\"transaction\"))\n",
    "        .select(\n",
    "            F.col(\"transaction.transaction_id\").cast('long').alias(\"id\"),\n",
    "            F.col(\"account_id\").cast('long').alias(\"account_id\"),\n",
    "            F.col(\"transaction.amount\").cast('double').alias(\"amount\"),\n",
    "            F.col(\"transaction.investment_requested_at\").cast('int').alias(\"investment_requested_at\"),\n",
    "            F.col(\"transaction.investment_completed_at\").cast('string').alias(\"investment_completed_at\"),\n",
    "            F.col(\"transaction.status\").cast('string').alias(\"status\"),\n",
    "            F.col(\"transaction.type\").cast('string').alias(\"type\"),\n",
    "        )\n",
    "    )\n",
    "\n",
    "\n",
    "def create_investments_df() -> None:\n",
    "    '''data pipeline that consumes the raw json and write it in the catalog'''\n",
    "    \n",
    "    input_file_path = 'Tables/investments/investments_json.txt'\n",
    "    output_file_path = 'Tables/investments/investments.json'\n",
    "    \n",
    "    schema = \"\"\"\n",
    "        account_id STRING,\n",
    "        transactions ARRAY<STRUCT<\n",
    "            transaction_id: STRING,\n",
    "            status: STRING,\n",
    "            amount: STRING,\n",
    "            investment_requested_at: STRING,\n",
    "            investment_completed_at: STRING,\n",
    "            investment_completed_at_timestamp: DATE,\n",
    "            type: STRING\n",
    "        >>\n",
    "    \"\"\"\n",
    "    \n",
    "    json_data = read_json_from_file(input_file_path)\n",
    "    write_json_to_file(json_data, output_file_path)\n",
    "    \n",
    "    json_df = read_json_output(output_file_path,schema)\n",
    "    unnested_df = unnest_json_df(json_df)\n",
    "    \n",
    "    return unnested_df.createOrReplaceTempView(\"investments\")\n"
   ]
  },
  {
   "cell_type": "code",
   "execution_count": 22,
   "id": "d6294109",
   "metadata": {},
   "outputs": [
    {
     "name": "stderr",
     "output_type": "stream",
     "text": [
      "                                                                                \r"
     ]
    }
   ],
   "source": [
    "create_catalog(os.listdir(\"Tables/\"))\n",
    "create_investments_df()"
   ]
  },
  {
   "cell_type": "markdown",
   "id": "fbc964d1",
   "metadata": {},
   "source": [
    "# Problem Statement 1:\n",
    "Your colleague Jane Hopper, the Business Analyst in charge of analyzing customer behavior, who directly\n",
    "consumes data from the Data Warehouse Environment, needs to get all the account's monthly balances between\n",
    "Jan/2020 and Dec/2020. She wasn't able to do it alone, and asked for your help. Add to your solution the SQL\n",
    "query (.sql file) used to retrieve the data needed (the necessary tables were sent in csv format along with this pdf,\n",
    "on folder tables/). Feel free to use the dialect of your choice, but please specify the SQL engine."
   ]
  },
  {
   "cell_type": "code",
   "execution_count": 23,
   "id": "2c4102b9",
   "metadata": {},
   "outputs": [
    {
     "name": "stderr",
     "output_type": "stream",
     "text": [
      "[Stage 122:=============================================>         (10 + 2) / 12]\r"
     ]
    },
    {
     "name": "stdout",
     "output_type": "stream",
     "text": [
      "+-----+-------------------+------------------+------------------+---------------------+\n",
      "|Month|           Customer|   TotalTransferIn|  TotalTransferOut|AccountMonthlyBalance|\n",
      "+-----+-------------------+------------------+------------------+---------------------+\n",
      "|    2|1702680208601907456|            529.89|           1602.84|  -1072.9499999999998|\n",
      "|    3|2001021613139299072|           1277.98|               0.0|              1277.98|\n",
      "|    7|1322455016220591104|            398.61|               0.0|               398.61|\n",
      "|    5|2896138879195125248|           5409.79|           1216.93|              4192.86|\n",
      "|   11|1816947191131784704|            869.98|               0.0|               869.98|\n",
      "|    6|3223316904186844160|1431.4599999999998|               0.0|   1431.4599999999998|\n",
      "|   11| 707647286167164416|           1915.25|               0.0|              1915.25|\n",
      "|   12| 486526423505004160|           1637.25|               0.0|              1637.25|\n",
      "|   12|2304710428148083712|           1609.33|2530.9900000000002|   -921.6600000000003|\n",
      "|    5|2938439586047170048|2764.9900000000002|            681.77|   2083.2200000000003|\n",
      "|    4|3058564493824865280|           2465.64|            337.05|   2128.5899999999997|\n",
      "|    6|2087810975834544640| 876.4000000000001|               0.0|    876.4000000000001|\n",
      "|   10|1352249426336786176|           2005.98|               0.0|              2005.98|\n",
      "|    2|1173498575985441280|           3720.21|               0.0|              3720.21|\n",
      "|   12|1173498575985441280|           2348.18|           1893.61|   454.56999999999994|\n",
      "|    8|1830652059370670592|           2075.27|               0.0|              2075.27|\n",
      "|    9|1958843937544812544|           2805.92|            1796.2|              1009.72|\n",
      "|    3|2675723295496974336|           1713.94|           1744.03|  -30.089999999999918|\n",
      "|    1|1248143861360588032|           4083.92|               0.0|              4083.92|\n",
      "|    6|1875689600402547200|           1514.34|2770.6400000000003|  -1256.3000000000004|\n",
      "+-----+-------------------+------------------+------------------+---------------------+\n",
      "only showing top 20 rows\n",
      "\n"
     ]
    },
    {
     "name": "stderr",
     "output_type": "stream",
     "text": [
      "\r",
      "                                                                                \r"
     ]
    }
   ],
   "source": [
    "TOTAL_TRANSFER_IN = \"SUM(CASE WHEN in_or_out LIKE '%in%' THEN amount ELSE 0 END)\"\n",
    "TOTAL_TRANSFER_OUT = \"SUM(CASE WHEN in_or_out LIKE '%out%' THEN amount ELSE 0 END)\"\n",
    "\n",
    "df_account_monthly_balance = spark.sql(f\"\"\"\n",
    "\n",
    "WITH\n",
    "\n",
    "raw_data AS (\n",
    "-- Gets raw data from both pix and non-pix transactions\n",
    "\n",
    "    SELECT *, \"transfer_in\" AS in_or_out, \"non_pix\" AS type\n",
    "    FROM transfer_ins\n",
    "\n",
    "    UNION ALL\n",
    "\n",
    "    SELECT *, \"transfer_out\" AS in_or_out, \"non_pix\" AS type\n",
    "    FROM transfer_outs\n",
    "\n",
    "    UNION ALL\n",
    "\n",
    "    SELECT *, \"pix\" AS type\n",
    "    FROM pix_movements\n",
    "    \n",
    "),\n",
    "\n",
    "report AS (\n",
    "-- Gets 2020's Account Monthly Balance\n",
    "\n",
    "    SELECT\n",
    "        month(from_unixtime(transaction_requested_at)) AS Month,\n",
    "        account_id                                     AS Customer,\n",
    "        {TOTAL_TRANSFER_IN}                            AS TotalTransferIn,\n",
    "        {TOTAL_TRANSFER_OUT}                           AS TotalTransferOut,\n",
    "        {TOTAL_TRANSFER_IN} - {TOTAL_TRANSFER_OUT}     AS AccountMonthlyBalance    \n",
    "\n",
    "    FROM raw_data\n",
    "   WHERE from_unixtime(transaction_requested_at) >= \"2020-01-01\"\n",
    "     AND from_unixtime(transaction_requested_at) <  \"2021-01-01\"\n",
    "     AND status = \"completed\"\n",
    "    GROUP BY 1,2\n",
    "    \n",
    ")\n",
    "\n",
    "SELECT *\n",
    "FROM report\n",
    "\n",
    "\"\"\"\n",
    ")\n",
    "\n",
    "df_account_monthly_balance.show()"
   ]
  },
  {
   "cell_type": "markdown",
   "id": "e269b267",
   "metadata": {},
   "source": [
    "# Problem Statement 2:\n",
    "Data model modification proposal with a visual representation and trade-off analysis"
   ]
  },
  {
   "cell_type": "code",
   "execution_count": 24,
   "id": "040b4b8d",
   "metadata": {},
   "outputs": [],
   "source": [
    "@dataclass\n",
    "class ProductDailyEvents:\n",
    "    \"\"\"\n",
    "    \n",
    "    This class sits between our original source tables and the reporting enviroment. It\n",
    "    transforms data from service tables into a standardized table that will help us to\n",
    "    create more flexible and scalable datamarts\n",
    "    \n",
    "    \"\"\"\n",
    "    \n",
    "    table: DataFrame\n",
    "    account_id_col: str\n",
    "    amount_col: str\n",
    "    requested_at_col: str\n",
    "    completed_at_col: str\n",
    "    status_col: str\n",
    "    in_or_out_col: str\n",
    "    product: str\n",
    "        \n",
    "    accounts: DataFrame = spark.table(\"accounts\").select(\"account_id\",\"customer_id\")\n",
    "    customers: DataFrame = spark.table(\"customers\").select(\"country_name\",\"customer_id\")\n",
    "        \n",
    "    def get_transformed_table(self) -> DataFrame:\n",
    "        \"\"\"\n",
    "        Transforms the input DataFrame into a standardized table.\n",
    "        \n",
    "        Returns:\n",
    "            DataFrame: The product_daily_events transformed table.\n",
    "        \"\"\"\n",
    "        return (\n",
    "            self.table\n",
    "            .select(\n",
    "                F.col(self.account_id_col).alias(\"account_id\"),\n",
    "                F.col(self.amount_col).alias(\"amount\"),\n",
    "                F.col(self.requested_at_col).alias(\"txn_requested_at\"),\n",
    "                F.col(self.completed_at_col).alias(\"txn_completed_at\"),\n",
    "                F.col(self.status_col).alias(\"status\"),\n",
    "                F.when(\n",
    "                    F.col(self.in_or_out_col).like(\"%_in%\"),F.lit(\"in\")\n",
    "                ).otherwise(F.lit(\"out\")).alias(\"in_or_out\"),\n",
    "                F.lit(self.product).alias(\"product\"),\n",
    "            )\n",
    "            .join(self.accounts, on=\"account_id\", how=\"left\")\n",
    "            .join(self.customers, on=\"customer_id\", how=\"left\")\n",
    "            .withColumn(\"day\",F.dayofmonth(F.from_unixtime(\"txn_requested_at\")))\n",
    "            .withColumn(\"month\",F.date_format(F.from_unixtime(\"txn_requested_at\"),\"yyyy-MM\"))\n",
    "            .withColumn(\"event_date\",F.date_format(F.from_unixtime(\"txn_requested_at\"),\"yyyy-MM-dd\"))\n",
    "            .drop(\"customer_id\")\n",
    "        )\n",
    "    \n",
    "    def write_in_spark_warehouse(self,mode) -> None:\n",
    "        df = self.get_transformed_table()\n",
    "        df.write.mode(mode).format(\"parquet\").saveAsTable(\"products_daily_events\")"
   ]
  },
  {
   "cell_type": "code",
   "execution_count": 25,
   "id": "14855933",
   "metadata": {},
   "outputs": [
    {
     "name": "stderr",
     "output_type": "stream",
     "text": [
      "                                                                                \r"
     ]
    }
   ],
   "source": [
    "pix_movements = spark.table(\"pix_movements\")\n",
    "transfer_ins = spark.table(\"transfer_ins\").withColumn(\"in_or_out\", F.lit(\"non_pix_in\"))\n",
    "transfer_outs = spark.table(\"transfer_outs\").withColumn(\"in_or_out\", F.lit(\"non_pix_out\"))\n",
    "investments = spark.table(\"investments\")\n",
    "\n",
    "daily_events_pix = ProductDailyEvents(\n",
    "    table=pix_movements,\n",
    "    account_id_col=\"account_id\",\n",
    "    amount_col=\"pix_amount\",\n",
    "    requested_at_col=\"pix_requested_at\",\n",
    "    completed_at_col=\"pix_completed_at\",\n",
    "    status_col=\"status\",\n",
    "    in_or_out_col=\"in_or_out\",\n",
    "    product=\"pix\"\n",
    ")\n",
    "\n",
    "daily_events_pix.write_in_spark_warehouse(mode=\"overwrite\")\n",
    "\n",
    "daily_events_transfer_in = ProductDailyEvents(\n",
    "    table=transfer_ins,\n",
    "    account_id_col=\"account_id\",\n",
    "    amount_col=\"amount\",\n",
    "    requested_at_col=\"transaction_requested_at\",\n",
    "    completed_at_col=\"transaction_completed_at\",\n",
    "    status_col=\"status\",\n",
    "    in_or_out_col=\"in_or_out\",\n",
    "    product=\"non_pix\",\n",
    ")\n",
    "\n",
    "daily_events_transfer_in.write_in_spark_warehouse(mode=\"append\")\n",
    "\n",
    "daily_events_transfer_out = ProductDailyEvents(\n",
    "    table=transfer_outs,\n",
    "    account_id_col=\"account_id\",\n",
    "    amount_col=\"amount\",\n",
    "    requested_at_col=\"transaction_requested_at\",\n",
    "    completed_at_col=\"transaction_completed_at\",\n",
    "    status_col=\"status\",\n",
    "    in_or_out_col=\"in_or_out\",\n",
    "    product=\"non_pix\",\n",
    ")\n",
    "\n",
    "daily_events_transfer_out.write_in_spark_warehouse(mode=\"append\")\n",
    "\n",
    "daily_events_investments = ProductDailyEvents(\n",
    "    table=investments,\n",
    "    account_id_col=\"account_id\",\n",
    "    amount_col=\"amount\",\n",
    "    requested_at_col=\"investment_requested_at\",\n",
    "    completed_at_col=\"investment_completed_at\",\n",
    "    status_col=\"status\",\n",
    "    in_or_out_col=\"type\",\n",
    "    product=\"investments\",\n",
    ")\n",
    "\n",
    "daily_events_investments.write_in_spark_warehouse(mode=\"append\")"
   ]
  },
  {
   "cell_type": "code",
   "execution_count": 26,
   "id": "c0bbda65",
   "metadata": {},
   "outputs": [
    {
     "name": "stdout",
     "output_type": "stream",
     "text": [
      "+-------------------+-------+----------------+----------------+---------+---------+-------+------------+---+-------+----------+\n",
      "|         account_id| amount|txn_requested_at|txn_completed_at|   status|in_or_out|product|country_name|day|  month|event_date|\n",
      "+-------------------+-------+----------------+----------------+---------+---------+-------+------------+---+-------+----------+\n",
      "| 438980267812145600|1396.64|      1579074367|            None|   failed|      out|non_pix|      Brasil| 15|2020-01|2020-01-15|\n",
      "| 253931865368420288|1684.49|      1595144491|      1595144500|completed|      out|non_pix|      Brasil| 19|2020-07|2020-07-19|\n",
      "|1410463889223333888| 357.91|      1580605502|      1580605515|completed|      out|non_pix|      Brasil|  1|2020-02|2020-02-01|\n",
      "| 967032139408421376|1933.77|      1580938498|      1580938517|completed|      out|non_pix|      Brasil|  5|2020-02|2020-02-05|\n",
      "| 479529564765572288|  348.9|      1578923002|      1578923007|completed|      out|non_pix|      Brasil| 13|2020-01|2020-01-13|\n",
      "| 479529564765572288|1049.12|      1581666442|      1581666456|completed|      out|non_pix|      Brasil| 14|2020-02|2020-02-14|\n",
      "|3288792252319690240|1083.01|      1578634485|            None|   failed|      out|non_pix|      Brasil| 10|2020-01|2020-01-10|\n",
      "|3159540850757342720| 426.73|      1608027376|      1608027391|completed|      out|non_pix|      Brasil| 15|2020-12|2020-12-15|\n",
      "|3392112824756089344| 1228.4|      1600857823|      1600857842|completed|      out|non_pix|      Brasil| 23|2020-09|2020-09-23|\n",
      "|3392112824756089344| 651.62|      1595695521|      1595695525|completed|      out|non_pix|      Brasil| 25|2020-07|2020-07-25|\n",
      "|3286107959831829504|1092.52|      1602883607|      1602883614|completed|      out|non_pix|      Brasil| 16|2020-10|2020-10-16|\n",
      "|2173517564649275392| 103.87|      1598215207|      1598215215|completed|      out|non_pix|      Brasil| 23|2020-08|2020-08-23|\n",
      "| 507987780945996736| 489.15|      1602878510|      1602878521|completed|      out|non_pix|      Brasil| 16|2020-10|2020-10-16|\n",
      "| 414591092625732800| 639.35|      1605614316|      1605614334|completed|      out|non_pix|      Brasil| 17|2020-11|2020-11-17|\n",
      "|3011375634010832896|  301.2|      1605090792|      1605090796|completed|      out|non_pix|      Brasil| 11|2020-11|2020-11-11|\n",
      "|1836359271124509184|1733.97|      1602713674|      1602713675|completed|      out|non_pix|      Brasil| 14|2020-10|2020-10-14|\n",
      "| 691946868448769920|1786.11|      1601818522|      1601818525|completed|      out|non_pix|      Brasil|  4|2020-10|2020-10-04|\n",
      "|1891455380300905472| 625.12|      1594857666|      1594857676|completed|      out|non_pix|      Brasil| 15|2020-07|2020-07-15|\n",
      "| 994985248422406400| 443.98|      1583188827|      1583188837|completed|      out|non_pix|      Brasil|  2|2020-03|2020-03-02|\n",
      "| 994985248422406400| 138.58|      1608374804|      1608374820|completed|      out|non_pix|      Brasil| 19|2020-12|2020-12-19|\n",
      "+-------------------+-------+----------------+----------------+---------+---------+-------+------------+---+-------+----------+\n",
      "only showing top 20 rows\n",
      "\n"
     ]
    }
   ],
   "source": [
    "spark.table(\"products_daily_events\").show()"
   ]
  },
  {
   "cell_type": "markdown",
   "id": "1848699e",
   "metadata": {},
   "source": [
    "# Problem Statement 3:\n",
    "Migration plan and strategy in order to implement the data model modification\n",
    "proposal mentioned above"
   ]
  },
  {
   "cell_type": "markdown",
   "id": "a3a83cc4",
   "metadata": {},
   "source": [
    "1. Map all dashboards that consume old tables\n",
    "2. Clone and substitute the source to new table\n",
    "3. Communicate all stakeholders to help on validation period\n",
    "4. As the migration will take place gradually, we should gather feedback from users in order to fix eventual errors or bugs\n",
    "5. After validation period and adjustments are done, we may push it to production\n"
   ]
  },
  {
   "cell_type": "markdown",
   "id": "0b2b1d95",
   "metadata": {},
   "source": [
    "# Problem Statement 4:\n",
    "On another note, Jane's friend, Pepino, wants to know how well our PIX product is doing inside Nubank. For that,\n",
    "he wants your help to come up with indicators that can be used to track the technical and business performance of\n",
    "the product. Which metrics would you suggest to track and why?"
   ]
  },
  {
   "cell_type": "code",
   "execution_count": 27,
   "id": "dd6319d6",
   "metadata": {},
   "outputs": [],
   "source": [
    "class CustomDimensions(NamedTuple):\n",
    "    \"\"\"\n",
    "    Defines all custom dimensions that can be add to the 'products_daily_events' table in\n",
    "    order to create our businness metrics.\n",
    "    \"\"\"\n",
    "    \n",
    "    WINDOW_ACCOUNT = (\n",
    "        Window()\n",
    "        .partitionBy(\"account_id\")\n",
    "        .orderBy(F.col(\"txn_requested_at\"))\n",
    "    )\n",
    "    \n",
    "    WINDOW_ACCOUNT_24H = (\n",
    "        Window()\n",
    "        .partitionBy(\"account_id\")\n",
    "        .orderBy(F.col(\"txn_requested_at\").cast(\"long\"))\n",
    "        .rangeBetween(-24, Window.currentRow)\n",
    "    )\n",
    "    \n",
    "    WINDOW_ACCOUNT_EVER = (\n",
    "        Window()\n",
    "        .partitionBy(\"account_id\")\n",
    "        .orderBy(F.col(\"txn_requested_at\"))\n",
    "        .rangeBetween(Window.unboundedPreceding, Window.currentRow)\n",
    "    )\n",
    "    \n",
    "    TXN_REQUESTED_AT_TS = (\n",
    "        F.from_unixtime(\"txn_requested_at\")\n",
    "    ).alias(\"txn_requested_at_ts\")\n",
    "    \n",
    "    TXN_COMPLETED_AT_TS = (\n",
    "        F.from_unixtime(\"txn_completed_at\")\n",
    "    ).alias(\"txn_completed_at_ts\")\n",
    "    \n",
    "    TIME_TO_COMPLETE_IN_SECONDS = (\n",
    "        F.col(\"txn_completed_at\").cast(\"long\")-F.col(\"txn_requested_at\").cast(\"long\")\n",
    "    ).alias(\"time_to_complete_in_seconds\")\n",
    "    \n",
    "    COUNT_TXNS_PER_ACCOUNT_EVER = (\n",
    "        F.sum(F.lit(1)).over(WINDOW_ACCOUNT_EVER)\n",
    "    ).alias(\"count_txns_orders_per_account_ever\")\n",
    "    \n",
    "    LAST_TXN_DATE = (\n",
    "        F.lag(\"txn_requested_at\",1).over(WINDOW_ACCOUNT)\n",
    "    ).alias(\"last_txn_date\")\n",
    "    \n",
    "    TIME_FROM_LAST_TXN_IN_DAYS = (\n",
    "        ((F.col(\"txn_completed_at\").cast(\"long\")-LAST_TXN_DATE.cast(\"long\"))/86400)\n",
    "    ).alias(\"time_from_last_txn_in_days\")\n",
    "    \n",
    "    @classmethod\n",
    "    def get_all(cls) -> List[F.Column]:\n",
    "        \"\"\" \n",
    "        The get_all() class method is an option to generate all at once in a single list \n",
    "        \"\"\"\n",
    "        return [\n",
    "            cls.TXN_REQUESTED_AT_TS,\n",
    "            cls.TXN_COMPLETED_AT_TS,\n",
    "            cls.TIME_TO_COMPLETE_IN_SECONDS,\n",
    "            cls.COUNT_TXNS_PER_ACCOUNT_EVER,\n",
    "            cls.LAST_TXN_DATE,\n",
    "            cls.TIME_FROM_LAST_TXN_IN_DAYS,\n",
    "        ]"
   ]
  },
  {
   "cell_type": "code",
   "execution_count": 28,
   "id": "f0b52b7c",
   "metadata": {},
   "outputs": [],
   "source": [
    "class Metrics(NamedTuple):\n",
    "    \"\"\"\n",
    "    Defines all logics and businnes rules for our metrics.\n",
    "    \"\"\"\n",
    "    \n",
    "    FAILED = (F.col(\"status\")==\"failed\")\n",
    "    \n",
    "    COMPLETED = (F.col(\"status\")==\"completed\")\n",
    "    \n",
    "    FIRST_TXN = (F.col(\"count_txns_orders_per_account_ever\")==1)\n",
    "    \n",
    "    TOTAL_AMOUNT = F.sum(F.col(\"amount\")).alias(\"total_amount\")\n",
    "    \n",
    "    TOTAL_AMOUNT_COMPLETED = (\n",
    "        F.sum(F.when(COMPLETED,F.col(\"amount\")).otherwise(0))\n",
    "    ).alias(\"total_amount_completed\")\n",
    "    \n",
    "    TOTAL_AMOUNT_FAILED = (\n",
    "        F.sum(F.when(FAILED,F.col(\"amount\")).otherwise(0))\n",
    "    ).alias(\"total_amount_failed\")\n",
    "    \n",
    "    TOTAL_TRANSFER_IN = (\n",
    "        F.sum(F.when(F.col(\"in_or_out\")==\"in\",F.col(\"amount\")).otherwise(0))\n",
    "    ).alias(\"total_transfer_in\")\n",
    "\n",
    "    TOTAL_TRANSFER_OUT = (\n",
    "        F.sum(F.when(F.col(\"in_or_out\")==\"out\",F.col(\"amount\")).otherwise(0))\n",
    "    ).alias(\"total_transfer_out\")\n",
    "    \n",
    "    ACCOUNT_MONTHLY_BALANCE =  (\n",
    "        TOTAL_TRANSFER_IN - TOTAL_TRANSFER_OUT\n",
    "    ).alias(\"account_monthly_balance\")\n",
    "    \n",
    "    FAIL_RATE = F.round(\n",
    "        TOTAL_AMOUNT_FAILED / TOTAL_AMOUNT_COMPLETED, 2\n",
    "    ).alias(\"fail_rate\")\n",
    "    \n",
    "    COMPLETED_RATE = F.round(\n",
    "        TOTAL_AMOUNT_COMPLETED / TOTAL_AMOUNT, 2\n",
    "    ).alias(\"completed_rate\")\n",
    "    \n",
    "    AVG_TIME_TO_COMPLETED = (\n",
    "        F.avg(F.col(\"time_to_complete_in_seconds\"))\n",
    "    ).alias(\"avg_time_to_completed\") \n",
    "    \n",
    "    AVG_RECENCY = (\n",
    "        F.avg(F.col(\"time_from_last_txn_in_days\"))\n",
    "    ).alias(\"avg_recency\")\n",
    "    \n",
    "    TOTAL_ORDERS = (\n",
    "        F.sum(F.lit(1))\n",
    "    ).alias(\"total_orders\")\n",
    "    \n",
    "    TOTAL_FIRST_TXN_ORDERS = (\n",
    "        F.sum(F.when(FIRST_TXN,F.lit(1)).otherwise(0))\n",
    "    ).alias(\"total_first_txn_orders\")\n",
    "    \n",
    "    ATV = (\n",
    "        F.avg(F.col(\"amount\"))\n",
    "    ).alias(\"atv\")\n",
    "    \n",
    "    P99_TIME_TO_COMPLETED = (\n",
    "        F.percentile_approx(\"time_to_complete_in_seconds\", 0.99).alias(\"p99\")\n",
    "    )\n",
    "    \n",
    "    P90_TIME_TO_COMPLETED = (\n",
    "        F.percentile_approx(\"time_to_complete_in_seconds\", 0.90).alias(\"p90\")\n",
    "    )\n",
    "    \n",
    "    @classmethod\n",
    "    def get_all(cls) -> List[PysparkColumn]:\n",
    "        \"\"\" \n",
    "        The get_all() class method is an option to generate all at once in a single list \n",
    "        \"\"\"\n",
    "        return [\n",
    "            cls.TOTAL_AMOUNT,\n",
    "            cls.TOTAL_AMOUNT_COMPLETED,\n",
    "            cls.TOTAL_AMOUNT_FAILED,\n",
    "            cls.FAIL_RATE,\n",
    "            cls.COMPLETED_RATE,\n",
    "            cls.AVG_TIME_TO_COMPLETED,\n",
    "            cls.AVG_RECENCY,\n",
    "            cls.TOTAL_ORDERS,\n",
    "            cls.TOTAL_FIRST_PIX_ORDERS,\n",
    "            cls.ATV,\n",
    "            cls.P99_TIME_TO_COMPLETED,\n",
    "            cls.P90_TIME_TO_COMPLETED,\n",
    "        ]"
   ]
  },
  {
   "cell_type": "code",
   "execution_count": 29,
   "id": "ef19c5ff",
   "metadata": {},
   "outputs": [],
   "source": [
    "def get_monthly_metrics_plot(\n",
    "    df: DataFrame,\n",
    "    metric: List[PysparkColumn],\n",
    "    title: str, \n",
    ") -> None:\n",
    "    \"\"\"\n",
    "    Auxiliar function to help plot the monthly metrics\n",
    "    \"\"\"\n",
    "    \n",
    "    return (df\n",
    "            .groupBy(\"month\")\n",
    "            .agg(*metric)\n",
    "            .sort(F.asc(\"month\"))\n",
    "            .toPandas()\n",
    "            .plot\n",
    "            .line(x=\"month\", title=title)\n",
    "            .legend(loc='center left', bbox_to_anchor=(1, 0.5))\n",
    "           )"
   ]
  },
  {
   "cell_type": "code",
   "execution_count": 30,
   "id": "9171771d",
   "metadata": {},
   "outputs": [],
   "source": [
    "df_viz = (spark.table(\"products_daily_events\")\n",
    "          .where(F.col(\"product\")==\"pix\")\n",
    "          .select(\"*\", *CustomDimensions.get_all()))"
   ]
  },
  {
   "cell_type": "code",
   "execution_count": 31,
   "id": "361b5acc",
   "metadata": {},
   "outputs": [
    {
     "name": "stderr",
     "output_type": "stream",
     "text": [
      "\r",
      "[Stage 140:>                                                        (0 + 2) / 2]\r",
      "\r",
      "                                                                                \r"
     ]
    },
    {
     "data": {
      "text/plain": [
       "<matplotlib.legend.Legend at 0x7f46309c7fa0>"
      ]
     },
     "execution_count": 31,
     "metadata": {},
     "output_type": "execute_result"
    },
    {
     "data": {
      "image/png": "[encoded data removed]",
      "text/plain": [
       "<Figure size 800x550 with 1 Axes>"
      ]
     },
     "metadata": {},
     "output_type": "display_data"
    }
   ],
   "source": [
    "get_monthly_metrics_plot(df_viz,[Metrics.TOTAL_FIRST_TXN_ORDERS],\"Total First Pix Orders\")"
   ]
  },
  {
   "cell_type": "code",
   "execution_count": 32,
   "id": "0aed723c",
   "metadata": {},
   "outputs": [
    {
     "data": {
      "text/plain": [
       "<matplotlib.legend.Legend at 0x7f45de13e5e0>"
      ]
     },
     "execution_count": 32,
     "metadata": {},
     "output_type": "execute_result"
    },
    {
     "data": {
      "image/png": "[encoded data removed]",
      "text/plain": [
       "<Figure size 800x550 with 1 Axes>"
      ]
     },
     "metadata": {},
     "output_type": "display_data"
    }
   ],
   "source": [
    "get_monthly_metrics_plot(df_viz,[Metrics.FAIL_RATE],\"Pix Fail Rate\")"
   ]
  },
  {
   "cell_type": "code",
   "execution_count": 33,
   "id": "1731545b",
   "metadata": {},
   "outputs": [
    {
     "data": {
      "text/plain": [
       "<matplotlib.legend.Legend at 0x7f45e84ebe50>"
      ]
     },
     "execution_count": 33,
     "metadata": {},
     "output_type": "execute_result"
    },
    {
     "data": {
      "image/png": "[encoded data removed]",
      "text/plain": [
       "<Figure size 800x550 with 1 Axes>"
      ]
     },
     "metadata": {},
     "output_type": "display_data"
    }
   ],
   "source": [
    "metrics = [\n",
    "     Metrics.AVG_TIME_TO_COMPLETED,\n",
    "     Metrics.P99_TIME_TO_COMPLETED,\n",
    "     Metrics.P90_TIME_TO_COMPLETED,\n",
    "]\n",
    "\n",
    "get_monthly_metrics_plot(df_viz,metrics,\"Time to Completed Metrics (in seconds)\")"
   ]
  },
  {
   "cell_type": "code",
   "execution_count": 34,
   "id": "1c5bd8f6",
   "metadata": {},
   "outputs": [
    {
     "data": {
      "text/plain": [
       "<matplotlib.legend.Legend at 0x7f45f09f3fa0>"
      ]
     },
     "execution_count": 34,
     "metadata": {},
     "output_type": "execute_result"
    },
    {
     "data": {
      "image/png": "[encoded data removed]",
      "text/plain": [
       "<Figure size 800x550 with 1 Axes>"
      ]
     },
     "metadata": {},
     "output_type": "display_data"
    }
   ],
   "source": [
    "get_monthly_metrics_plot(df_viz,[Metrics.ATV],\"Pix ATV\")"
   ]
  },
  {
   "cell_type": "markdown",
   "id": "9a6fa23c",
   "metadata": {},
   "source": [
    "# Problem Statement 5:\n",
    "Another business analyst, Sophia, would like your help to analyze how much money Nubank's customers' have on their investment account on a daily basis."
   ]
  },
  {
   "cell_type": "code",
   "execution_count": 35,
   "id": "3dc71ea5",
   "metadata": {},
   "outputs": [],
   "source": [
    "class InvestmentsMetrics(NamedTuple):\n",
    "    \"\"\"\n",
    "    Defines all logics, businnes rules and constants for our investments metrics\n",
    "    \"\"\"\n",
    "    \n",
    "    INVESTMENTS_LAG_WINDOW = (\n",
    "        Window()\n",
    "        .partitionBy(\"account_id\")\n",
    "        .orderBy(F.col(\"event_date\"))\n",
    "    )\n",
    "\n",
    "    INVESTMENTS_CUM_WINDOW = (\n",
    "        Window()\n",
    "        .partitionBy(\"account_id\")\n",
    "        .orderBy(F.col(\"event_date\"))\n",
    "        .rowsBetween(Window.unboundedPreceding,Window.currentRow)\n",
    "    )\n",
    "\n",
    "    FIXED_RATE = 0.0001\n",
    "\n",
    "    TOTAL_DEPOSIT = (\n",
    "        F.sum(F.when(F.col(\"in_or_out\")==\"in\",F.col(\"amount\")).otherwise(0))\n",
    "    ).alias(\"deposit\")\n",
    "\n",
    "    TOTAL_WITHDRAWAL = (\n",
    "        F.sum(F.when(F.col(\"in_or_out\")==\"out\",F.col(\"amount\")).otherwise(0))\n",
    "    ).alias(\"withdrawal\")\n",
    "\n",
    "    TOTAL_BALANCE = (\n",
    "        TOTAL_DEPOSIT-TOTAL_WITHDRAWAL\n",
    "    ).alias(\"balance\")\n",
    "\n",
    "    PREVIOUS_DAY_TOTAL_BALANCE = (\n",
    "        F.lag(TOTAL_BALANCE,default=0).over(INVESTMENTS_LAG_WINDOW)\n",
    "    ).alias(\"previous_day_balance\")\n",
    "\n",
    "    TOTAL_MOVEMENTS = (\n",
    "        F.sum(TOTAL_BALANCE).over(INVESTMENTS_CUM_WINDOW)\n",
    "    ).alias(\"movements\")\n",
    "\n",
    "    _END_OF_DAY_INCOME = (\n",
    "        TOTAL_MOVEMENTS*F.lit(FIXED_RATE)\n",
    "    ).alias(\"_end_of_day_income\")\n",
    "    \n",
    "    END_OF_DAY_INCOME = (\n",
    "        F.when(_END_OF_DAY_INCOME<0,F.lit(0)).otherwise(_END_OF_DAY_INCOME)\n",
    "    ).alias(\"end_of_day_income\")\n",
    "\n",
    "    ACCOUNT_DAILY_BALANCE = (\n",
    "        TOTAL_MOVEMENTS+END_OF_DAY_INCOME\n",
    "    ).alias(\"account_daily_balance\")\n",
    "    \n",
    "    @classmethod\n",
    "    def get_all(cls) -> List[PysparkColumn]:\n",
    "        \"\"\" \n",
    "        The get_all() class method is an option to generate all at once in a single list \n",
    "        \"\"\"\n",
    "        return [\n",
    "            cls.TOTAL_DEPOSIT,\n",
    "            cls.TOTAL_WITHDRAWAL,\n",
    "            cls.TOTAL_BALANCE,\n",
    "            cls.PREVIOUS_DAY_TOTAL_BALANCE,\n",
    "            cls.TOTAL_MOVEMENTS,\n",
    "            cls.END_OF_DAY_INCOME,\n",
    "            cls.ACCOUNT_DAILY_BALANCE,\n",
    "        ]    "
   ]
  },
  {
   "cell_type": "code",
   "execution_count": 36,
   "id": "f895c831",
   "metadata": {},
   "outputs": [],
   "source": [
    "def create_investments_daily_balance_df(\n",
    "    df: DataFrame,\n",
    "    interval: Tuple[str,str],\n",
    "    metrics: InvestmentsMetrics = InvestmentsMetrics(),\n",
    ") -> DataFrame:\n",
    "    ''' Creates the Investments Daily Balance Report '''\n",
    "    \n",
    "    return (\n",
    "        df\n",
    "        .where(F.col(\"event_date\").between(*interval))\n",
    "        .where(F.col(\"status\")==\"completed\")\n",
    "        .where(F.col(\"product\")==\"investments\")\n",
    "        .groupBy(\"event_date\",\"day\",\"month\",\"account_id\")\n",
    "        .agg(*metrics.get_all())\n",
    "        .drop(\"event_date\",\"balance\",\"previous_day_balance\",\"movements\")\n",
    "    )\n",
    "\n",
    "def create_account_monthly_balance(\n",
    "    df: DataFrame, \n",
    "    interval: Tuple[str,str],\n",
    "    products: List[str],\n",
    "    metrics: Metrics = Metrics(),\n",
    ") -> DataFrame:\n",
    "    ''' Creates the Account Monthly Balance Report '''\n",
    "    \n",
    "    return (\n",
    "        df\n",
    "        .where(F.col(\"event_date\").between(*interval))\n",
    "        .where(F.col(\"status\")==\"completed\")\n",
    "        .where(F.col(\"product\").isin(products))\n",
    "        .groupBy(\"month\",\"account_id\")\n",
    "        .agg(metrics.TOTAL_TRANSFER_IN,\n",
    "             metrics.TOTAL_TRANSFER_OUT,\n",
    "             metrics.ACCOUNT_MONTHLY_BALANCE,\n",
    "            )\n",
    "    )    "
   ]
  },
  {
   "cell_type": "code",
   "execution_count": 37,
   "id": "a6cc5b28",
   "metadata": {},
   "outputs": [
    {
     "name": "stdout",
     "output_type": "stream",
     "text": [
      "+---+-------+----------------+-------+----------+--------------------+---------------------+\n",
      "|day|  month|      account_id|deposit|withdrawal|   end_of_day_income|account_daily_balance|\n",
      "+---+-------+----------------+-------+----------+--------------------+---------------------+\n",
      "| 19|2020-01| 623509224135263|  859.8|       0.0|             0.08598|    859.8859799999999|\n",
      "|  4|2020-02| 623509224135263| 514.33|       0.0|            0.137413|          1374.267413|\n",
      "| 25|2020-02| 623509224135263|1463.14|       0.0| 0.28372700000000006|   2837.5537270000004|\n",
      "|  5|2020-04| 623509224135263| 806.43|       0.0|             0.36437|           3644.06437|\n",
      "|  3|2020-06| 623509224135263| 876.47|       0.0|            0.452017|          4520.622017|\n",
      "| 16|2020-06| 623509224135263| 261.75|       0.0|            0.478192|          4782.398192|\n",
      "| 17|2020-06| 623509224135263| 528.28|       0.0|             0.53102|           5310.73102|\n",
      "| 22|2020-09| 623509224135263| 499.66|       0.0|            0.580986|          5810.440986|\n",
      "|  2|2020-10| 623509224135263|    0.0|    418.33|            0.539153|   5392.0691529999995|\n",
      "| 31|2020-10| 623509224135263|1386.78|       0.0|            0.677831|   6778.9878309999995|\n",
      "| 16|2020-03|1910868644230470| 672.06|       0.0|            0.067206|           672.127206|\n",
      "|  8|2020-05|1910868644230470| 773.88|       0.0|            0.144594|   1446.0845940000002|\n",
      "| 12|2020-11|1910868644230470| 733.13|       0.0| 0.21790700000000002|   2179.2879070000004|\n",
      "| 12|2020-02|1963067196365885|    0.0|   1381.87|                 0.0|             -1381.87|\n",
      "| 15|2020-04|1963067196365885| 443.54|       0.0|                 0.0|   -938.3299999999999|\n",
      "| 28|2020-06|1963067196365885|    0.0|   1442.74|                 0.0|  -2381.0699999999997|\n",
      "| 10|2020-04|1977223077647860|    0.0|   1144.15|                 0.0|             -1144.15|\n",
      "| 16|2020-12|1977223077647860| 650.31|       0.0|                 0.0|  -493.84000000000015|\n",
      "|  1|2020-02|3417018705901279| 150.96|       0.0|0.015096000000000002|           150.975096|\n",
      "| 12|2020-02|3417018705901279|    0.0|    344.48|                 0.0|              -193.52|\n",
      "+---+-------+----------------+-------+----------+--------------------+---------------------+\n",
      "only showing top 20 rows\n",
      "\n"
     ]
    }
   ],
   "source": [
    "df_products_daily_events = spark.table(\"products_daily_events\")\n",
    "\n",
    "create_investments_daily_balance_df(\n",
    "    df=df_products_daily_events,\n",
    "    interval=[\"2020-01-01\",\"2021-01-01\"],\n",
    ").show()"
   ]
  },
  {
   "cell_type": "code",
   "execution_count": 38,
   "id": "44090976",
   "metadata": {},
   "outputs": [
    {
     "name": "stderr",
     "output_type": "stream",
     "text": [
      "\r",
      "[Stage 181:========================>                                (3 + 4) / 7]\r",
      "\r",
      "[Stage 181:================================================>        (6 + 1) / 7]\r"
     ]
    },
    {
     "name": "stdout",
     "output_type": "stream",
     "text": [
      "+-------+-------------------+------------------+------------------+-----------------------+\n",
      "|  month|         account_id| total_transfer_in|total_transfer_out|account_monthly_balance|\n",
      "+-------+-------------------+------------------+------------------+-----------------------+\n",
      "|2020-05|2300937172497233408|               0.0|           1298.81|               -1298.81|\n",
      "|2020-10| 763228427349559680|           1793.63|           1423.74|      369.8900000000001|\n",
      "|2020-03|2940741837424075264|            421.29|           3137.02|               -2715.73|\n",
      "|2020-02| 635545162655866112|            394.59|1525.1599999999999|               -1130.57|\n",
      "|2020-09|2313340776533518848|            1509.9|            1738.7|    -228.79999999999995|\n",
      "|2020-01|1053798048799991808|           2202.84|            282.27|     1920.5700000000002|\n",
      "|2020-05|2051890080020457216|            223.37|           2788.46|               -2565.09|\n",
      "|2020-02| 201699679658010624|           1742.78|           1491.68|      251.0999999999999|\n",
      "|2020-07|2621967931601559552|3067.6400000000003|            726.51|                2341.13|\n",
      "|2020-03|1784692127305322496|           1962.38|           1888.33|      74.05000000000018|\n",
      "|2020-08|2275922278629404160|               0.0|           1468.95|               -1468.95|\n",
      "|2020-01|2877926654433227264| 5511.889999999999|           1274.67|      4237.219999999999|\n",
      "|2020-05| 172903754685878080|            667.08|             969.2|                -302.12|\n",
      "|2020-04| 504792453103106176|           2140.32|           1657.27|      483.0500000000002|\n",
      "|2020-06| 340117053782455936|               0.0|           1186.58|               -1186.58|\n",
      "|2020-02|2067010404471483136|           3200.35|            983.86|                2216.49|\n",
      "|2020-12|2357806910966247424|           1026.92|           1209.93|                -183.01|\n",
      "|2020-09|1310570008111385856|           2707.67|           2827.54|    -119.86999999999989|\n",
      "|2020-05|1849010224758180096|           1582.35|           1599.26|    -16.910000000000082|\n",
      "|2020-07|2178741252113194240|           7729.23|            4742.1|      2987.129999999999|\n",
      "+-------+-------------------+------------------+------------------+-----------------------+\n",
      "only showing top 20 rows\n",
      "\n"
     ]
    },
    {
     "name": "stderr",
     "output_type": "stream",
     "text": [
      "\r",
      "                                                                                \r"
     ]
    }
   ],
   "source": [
    "create_account_monthly_balance(\n",
    "    df=df_products_daily_events,\n",
    "    interval=[\"2020-01-01\",\"2021-01-01\"],\n",
    "    products=[\"non_pix\",\"pix\"]\n",
    ").show()"
   ]
  },
  {
   "cell_type": "code",
   "execution_count": null,
   "id": "f4ffdfc5",
   "metadata": {},
   "outputs": [],
   "source": []
  }
 ],
 "metadata": {
  "kernelspec": {
   "display_name": "Python 3 (ipykernel)",
   "language": "python",
   "name": "python3"
  },
  "language_info": {
   "codemirror_mode": {
    "name": "ipython",
    "version": 3
   },
   "file_extension": ".py",
   "mimetype": "text/x-python",
   "name": "python",
   "nbconvert_exporter": "python",
   "pygments_lexer": "ipython3",
   "version": "3.9.13"
  }
 },
 "nbformat": 4,
 "nbformat_minor": 5
}
